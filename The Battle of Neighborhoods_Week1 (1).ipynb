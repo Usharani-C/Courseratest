{
 "cells": [
  {
   "cell_type": "markdown",
   "metadata": {},
   "source": [
    "<h1> 1. Introduction Section <h1>\n",
    "<h2> Discussion on the business problem <h2>\n",
    "<h2> Description of the Problem and Background<h2>\n",
    "    <h3>About :<h3>\n",
    "    <h4> \n",
    "        The Battle of Neighborhoods to solve the business problem about the Top cuisines and Specific category in the specific area or the area in which the people wish to visit in Dubai.\n",
    "        \n",
    "United Arab Emirates (UAE) state is located on the eastern coast of the Arabic Peninsular, in the southwest corner of the Arabian Gulf. Renowned, worldwide, as a booming centre of international trade and innovation, Dubai has fast become one of the world’s most popular tourist destinations. Only in Dubai can one gaze upon, and travel up, the world’s largest freestanding structure (the Burj Khalifa), shop in both exclusive designer malls and traditional trade souks and indulge in feasts inspired by the flavours of the world while staying in a 7-star hotel!\n",
    "\n",
    "Dubai is the largest and most populous city in the UAE. There are approximately 2,780,000 residents from over 200 nationalities, plus countless tourists and traders on any given day! The state-of-the-art technology and infrastructure, tax-free living and a strategic location in the centre of the major trading continents, make Dubai the ideal to place to do business. The by-product of this is a dynamic prosperity—the reason that Dubai is one of the leading luxury holiday destinations in the world! Extravagance abounds in this captivating city-state. There is a rich Arabic culture that underpins local life in the city, but all are welcome and encouraged to explore and enjoy Dubai to the absolute fullest! <h4>\n",
    "    \n",
    "    \n",
    "    \n",
    "<h2> Business Problem: <h2>\n",
    "<h4>To find out the best restaurants and different cuisines to enjoy varity of the food in the specific location\n",
    "    1.Which Indian restaurant is best in Karama and Burduabi Area\n",
    "    2.Which is the Top Korean restaurant\n",
    "    3.Which BBQ restaurant is the best in Dubai\n",
    "    4.Best Donut restaurant \n",
    "    5.Most visited Coffee Shop <h4>\n",
    "    \n",
    " <h2> Data <h2>\n",
    "    \n",
    "    \n",
    " Description of the data and its sources that will be used to solve the problem\n",
    " \n",
    " Description of the Data:\n",
    " \n",
    " Data is picked from the Kaggle dataset which includes the below details :\n",
    " \n",
    "•\tAddress\n",
    "\n",
    "•\tcategory\n",
    "\n",
    "•\tid\n",
    "\n",
    "•\tlat\n",
    "\n",
    "•\tlng\n",
    "\n",
    "•\tlocation\n",
    "\n",
    "•\tname\n",
    "\n",
    "•\toriginalId\n",
    "\n",
    "•\tpolarity\n",
    "\n",
    "•\tsubCategory\n",
    "\n",
    "•\tdetails\n",
    "\n",
    "•\treviews\n",
    "\n",
    "\n",
    "<h2> How the data will be used to solve the problem <h2>\n",
    "    \n",
    "•\tUsing FourSquare API we will find all venues for each neighborhood.\n",
    "\n",
    "•\tFilter out all venues that are nearby by locality.\n",
    "\n",
    "•\tUsing aggregative rating for each resturant to find the best places.\n",
    "\n",
    "•\tVisualize the Ranking of neighborhoods using folium library(python)\n",
    "\n"
   ]
  },
  {
   "cell_type": "markdown",
   "metadata": {},
   "source": [
    "\n",
    "        \n",
    "       "
   ]
  },
  {
   "cell_type": "code",
   "execution_count": 1,
   "metadata": {},
   "outputs": [
    {
     "name": "stderr",
     "output_type": "stream",
     "text": [
      "usage: conda-script.py [-h] [-V] command ...\n",
      "conda-script.py: error: unrecognized arguments: # uncomment this line if you haven't completed the Foursquare API lab\n"
     ]
    },
    {
     "name": "stdout",
     "output_type": "stream",
     "text": [
      "Libraries imported.\n"
     ]
    }
   ],
   "source": [
    "import numpy as np # library to handle data in a vectorized manner\n",
    "import time\n",
    "import pandas as pd # library for data analsysis\n",
    "pd.set_option('display.max_columns', None)\n",
    "pd.set_option('display.max_rows', None)\n",
    "\n",
    "import json # library to handle JSON files\n",
    "import requests # library to handle requests\n",
    "from pandas.io.json import json_normalize # tranform JSON file into a pandas dataframe\n",
    "\n",
    "from geopy.geocoders import Nominatim # convert an address into latitude and longitude values\n",
    "!conda install -c conda-forge folium=0.5.0 --yes # uncomment this line if you haven't completed the Foursquare API lab\n",
    "import folium # map rendering library\n",
    "\n",
    "print('Libraries imported.')"
   ]
  },
  {
   "cell_type": "code",
   "execution_count": null,
   "metadata": {},
   "outputs": [],
   "source": []
  },
  {
   "cell_type": "code",
   "execution_count": null,
   "metadata": {},
   "outputs": [],
   "source": []
  },
  {
   "cell_type": "code",
   "execution_count": null,
   "metadata": {},
   "outputs": [],
   "source": []
  }
 ],
 "metadata": {
  "kernelspec": {
   "display_name": "Python 3",
   "language": "python",
   "name": "python3"
  },
  "language_info": {
   "codemirror_mode": {
    "name": "ipython",
    "version": 3
   },
   "file_extension": ".py",
   "mimetype": "text/x-python",
   "name": "python",
   "nbconvert_exporter": "python",
   "pygments_lexer": "ipython3",
   "version": "3.7.4"
  }
 },
 "nbformat": 4,
 "nbformat_minor": 2
}
